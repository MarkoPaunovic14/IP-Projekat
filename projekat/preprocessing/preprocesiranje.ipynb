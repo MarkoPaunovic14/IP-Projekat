{
 "cells": [
  {
   "cell_type": "code",
   "execution_count": 1,
   "id": "de60718f",
   "metadata": {},
   "outputs": [],
   "source": [
    "import numpy as np\n",
    "import pandas as pd\n",
    "import joblib"
   ]
  },
  {
   "cell_type": "code",
   "execution_count": 2,
   "id": "02c2e9b5",
   "metadata": {},
   "outputs": [],
   "source": [
    "data = pd.read_csv('bez_nedostajucih.csv')"
   ]
  },
  {
   "cell_type": "code",
   "execution_count": 3,
   "id": "39f48e83",
   "metadata": {},
   "outputs": [],
   "source": [
    "from sklearn.preprocessing import LabelEncoder\n",
    "label_encoder = LabelEncoder()"
   ]
  },
  {
   "cell_type": "code",
   "execution_count": 4,
   "id": "f330d506",
   "metadata": {},
   "outputs": [],
   "source": [
    "def mapi(str):\n",
    "    if 'Summer' in str:\n",
    "        return 0\n",
    "    if 'Winter' in str:\n",
    "        return 1\n",
    "    else:\n",
    "        return None"
   ]
  },
  {
   "cell_type": "code",
   "execution_count": 5,
   "id": "87b9991f",
   "metadata": {},
   "outputs": [],
   "source": [
    "nesto = data.drop(columns = ['ID', 'Name', 'Team', 'City', 'Event', 'Season', 'Year'])\n",
    "\n",
    "mapiranje = {'M' : 0, 'F' : 1}\n",
    "\n",
    "nesto['Sex'] = nesto['Sex'].map(mapiranje)\n",
    "nesto['Sport'] = label_encoder.fit_transform(nesto['Sport'])\n",
    "nesto['NOC'] = label_encoder.fit_transform(nesto['NOC'])\n",
    "nesto['Games'] = nesto['Games'].map(mapi)"
   ]
  },
  {
   "cell_type": "code",
   "execution_count": 6,
   "id": "12aa4d73",
   "metadata": {},
   "outputs": [],
   "source": [
    "y = data['Medal']\n",
    "x = nesto.columns.to_list()[:-1]"
   ]
  },
  {
   "cell_type": "code",
   "execution_count": 7,
   "id": "9b195dd2",
   "metadata": {},
   "outputs": [],
   "source": [
    "X = nesto[x]\n",
    "Y = y.fillna('No')"
   ]
  },
  {
   "cell_type": "markdown",
   "id": "9cf5fba1",
   "metadata": {},
   "source": [
    "## Balansiranje podataka"
   ]
  },
  {
   "cell_type": "markdown",
   "id": "4ef3dcbe",
   "metadata": {},
   "source": [
    " Zato sto imamo mnogo vise ljudi bez medalje (45000) nego ljudi sa medaljom (3*2000)"
   ]
  },
  {
   "cell_type": "code",
   "execution_count": 8,
   "id": "8a56efd6",
   "metadata": {},
   "outputs": [],
   "source": [
    "def resample(sampler, X, Y):\n",
    "    X_resampled, y_resampled = sampler.fit_resample(X, Y)\n",
    "    print(colored(\"Number of instances before resampling with {} : {}. \".format(type(sampler).__name__,\\\n",
    "                                                                           Counter(Y).items()), \"green\"))\n",
    "    print(colored(\"Number of instances after  resampling with {} : {}. \".format(type(sampler).__name__,\\\n",
    "                                                                           Counter(y_resampled).items()), \"blue\"))\n",
    "    return X_resampled, y_resampled"
   ]
  },
  {
   "cell_type": "code",
   "execution_count": 9,
   "id": "bb220037",
   "metadata": {},
   "outputs": [],
   "source": [
    "from imblearn.combine import SMOTEENN\n",
    "from sklearn.neighbors import KNeighborsClassifier\n",
    "from collections import Counter\n",
    "from termcolor import colored"
   ]
  },
  {
   "cell_type": "code",
   "execution_count": 10,
   "id": "046ad892",
   "metadata": {},
   "outputs": [],
   "source": [
    "# sampler = SMOTE(sampling_strategy='auto', random_state=42)"
   ]
  },
  {
   "cell_type": "code",
   "execution_count": 11,
   "id": "eefed84d",
   "metadata": {},
   "outputs": [],
   "source": [
    "# X_resampled, Y_resampled = resample(sampler, X, Y)"
   ]
  },
  {
   "cell_type": "code",
   "execution_count": 12,
   "id": "df5fd7d6",
   "metadata": {},
   "outputs": [],
   "source": [
    "from sklearn.model_selection import train_test_split\n",
    "from sklearn.tree import DecisionTreeClassifier\n",
    "from sklearn.preprocessing import MinMaxScaler"
   ]
  },
  {
   "cell_type": "code",
   "execution_count": 22,
   "id": "ccff7327",
   "metadata": {},
   "outputs": [
    {
     "name": "stdout",
     "output_type": "stream",
     "text": [
      "\u001b[32mNumber of instances before resampling with SMOTEENN : dict_items([('No', 45165), ('Bronze', 2346), ('Gold', 2429), ('Silver', 2326)]). \u001b[0m\n",
      "\u001b[34mNumber of instances after  resampling with SMOTEENN : dict_items([('Bronze', 36299), ('Gold', 36438), ('No', 26405), ('Silver', 35992)]). \u001b[0m\n"
     ]
    }
   ],
   "source": [
    "smoteenn = SMOTEENN(random_state=22, sampling_strategy='auto')\n",
    "X_resampled, y_resampled = resample(smoteenn, X, Y)"
   ]
  },
  {
   "cell_type": "code",
   "execution_count": 24,
   "id": "13cb42ae",
   "metadata": {},
   "outputs": [
    {
     "data": {
      "text/plain": [
       "(945938, 135134)"
      ]
     },
     "execution_count": 24,
     "metadata": {},
     "output_type": "execute_result"
    }
   ],
   "source": [
    "X_resampled.size, y_resampled.size"
   ]
  },
  {
   "cell_type": "code",
   "execution_count": 26,
   "id": "3e8892c9",
   "metadata": {},
   "outputs": [],
   "source": [
    "X_train, X_test, y_train, y_test = train_test_split(X_resampled, y_resampled, test_size=0.3, random_state=22, stratify=y_resampled)"
   ]
  },
  {
   "cell_type": "code",
   "execution_count": 27,
   "id": "91b10681",
   "metadata": {},
   "outputs": [
    {
     "data": {
      "text/plain": [
       "((94593, 7), (40541, 7), (94593,), (40541,))"
      ]
     },
     "execution_count": 27,
     "metadata": {},
     "output_type": "execute_result"
    }
   ],
   "source": [
    "(X_train.shape, X_test.shape, y_train.shape, y_test.shape)"
   ]
  },
  {
   "cell_type": "code",
   "execution_count": 28,
   "id": "16b2cfa6",
   "metadata": {},
   "outputs": [
    {
     "name": "stdout",
     "output_type": "stream",
     "text": [
      "Medal\n",
      "Gold      36438\n",
      "Bronze    36299\n",
      "Silver    35992\n",
      "No        26405\n",
      "Name: count, dtype: int64\n"
     ]
    }
   ],
   "source": [
    "medalje = y_resampled.value_counts()\n",
    "print(medalje)"
   ]
  },
  {
   "cell_type": "code",
   "execution_count": 29,
   "id": "18f93e50",
   "metadata": {},
   "outputs": [],
   "source": [
    "scaler = MinMaxScaler()\n",
    "scaler.fit(X_train)\n",
    "X_train_scaled = scaler.transform(X_train)\n",
    "X_test_scaled = scaler.transform(X_test)\n",
    "\n",
    "X_train = pd.DataFrame(data = X_train_scaled, columns = X_train.columns)\n",
    "X_test = pd.DataFrame(data = X_test_scaled, columns = X_test.columns)"
   ]
  },
  {
   "cell_type": "code",
   "execution_count": 30,
   "id": "c02d63ce",
   "metadata": {},
   "outputs": [
    {
     "data": {
      "text/plain": [
       "['classification_data.joblib']"
      ]
     },
     "execution_count": 30,
     "metadata": {},
     "output_type": "execute_result"
    }
   ],
   "source": [
    "joblib.dump((X_train, X_test, y_train, y_test), 'classification_data.joblib')"
   ]
  },
  {
   "cell_type": "code",
   "execution_count": null,
   "id": "4ace2a95",
   "metadata": {},
   "outputs": [],
   "source": []
  }
 ],
 "metadata": {
  "kernelspec": {
   "display_name": "Python 3 (ipykernel)",
   "language": "python",
   "name": "python3"
  },
  "language_info": {
   "codemirror_mode": {
    "name": "ipython",
    "version": 3
   },
   "file_extension": ".py",
   "mimetype": "text/x-python",
   "name": "python",
   "nbconvert_exporter": "python",
   "pygments_lexer": "ipython3",
   "version": "3.10.12"
  }
 },
 "nbformat": 4,
 "nbformat_minor": 5
}
